{
  "nbformat": 4,
  "nbformat_minor": 0,
  "metadata": {
    "colab": {
      "provenance": []
    },
    "kernelspec": {
      "name": "python3",
      "display_name": "Python 3"
    },
    "language_info": {
      "name": "python"
    }
  },
  "cells": [
    {
      "cell_type": "code",
      "execution_count": 7,
      "metadata": {
        "colab": {
          "base_uri": "https://localhost:8080/"
        },
        "id": "1oiM6c2ZCZEF",
        "outputId": "b0bc9881-ed55-4a8d-cd63-53a9e34c7b60"
      },
      "outputs": [
        {
          "output_type": "stream",
          "name": "stdout",
          "text": [
            "Optimization terminated successfully.\n",
            "         Current function value: 0.573147\n",
            "         Iterations 6\n",
            "                           Logit Regression Results                           \n",
            "==============================================================================\n",
            "Dep. Variable:                  admit   No. Observations:                  400\n",
            "Model:                          Logit   Df Residuals:                      394\n",
            "Method:                           MLE   Df Model:                            5\n",
            "Date:                Tue, 15 Jul 2025   Pseudo R-squ.:                 0.08292\n",
            "Time:                        12:29:14   Log-Likelihood:                -229.26\n",
            "converged:                       True   LL-Null:                       -249.99\n",
            "Covariance Type:            nonrobust   LLR p-value:                 7.578e-08\n",
            "==============================================================================\n",
            "                 coef    std err          z      P>|z|      [0.025      0.975]\n",
            "------------------------------------------------------------------------------\n",
            "const         -3.9900      1.140     -3.500      0.000      -6.224      -1.756\n",
            "gre            0.0023      0.001      2.070      0.038       0.000       0.004\n",
            "gpa            0.8040      0.332      2.423      0.015       0.154       1.454\n",
            "rank_2.0      -0.6754      0.316     -2.134      0.033      -1.296      -0.055\n",
            "rank_3.0      -1.3402      0.345     -3.881      0.000      -2.017      -0.663\n",
            "rank_4.0      -1.5515      0.418     -3.713      0.000      -2.370      -0.733\n",
            "==============================================================================\n"
          ]
        }
      ],
      "source": [
        "#EXERCISE 6\n",
        "import pandas as pd\n",
        "import statsmodels.api as sm\n",
        "\n",
        "url = \"https://stats.idre.ucla.edu/stat/stata/dae/binary.dta\"\n",
        "df = pd.read_stata(url)\n",
        "\n",
        "df = pd.get_dummies(df, columns=['rank'], drop_first=True)\n",
        "\n",
        "df = df.dropna()\n",
        "\n",
        "df = df.astype(float)\n",
        "\n",
        "X = df.drop('admit', axis=1)\n",
        "y = df['admit']\n",
        "\n",
        "X = sm.add_constant(X)\n",
        "\n",
        "model = sm.Logit(y, X).fit()\n",
        "\n",
        "print(model.summary())\n"
      ]
    },
    {
      "cell_type": "code",
      "source": [
        "#  Logistic Regression for Disease Prediction\n",
        "import pandas as pd\n",
        "from sklearn.linear_model import LogisticRegression\n",
        "from sklearn.model_selection import train_test_split\n",
        "from sklearn.metrics import classification_report\n",
        "\n",
        "data = {\n",
        "    'age': [25, 45, 52, 36, 23, 67, 34, 58, 49, 61],\n",
        "    'bp': [120, 140, 135, 130, 118, 160, 125, 150, 145, 155],\n",
        "    'cholesterol': [180, 250, 240, 220, 170, 300, 210, 270, 260, 280],\n",
        "    'disease': [0, 1, 1, 0, 0, 1, 0, 1, 1, 1]\n",
        "}\n",
        "\n",
        "df = pd.DataFrame(data)\n",
        "\n",
        "X = df[['age', 'bp', 'cholesterol']]\n",
        "y = df['disease']\n",
        "X_train, X_test, y_train, y_test = train_test_split(X, y, test_size=0.2, random_state=1)\n",
        "\n",
        "model = LogisticRegression()\n",
        "model.fit(X_train, y_train)\n",
        "\n",
        "y_pred = model.predict(X_test)\n",
        "\n",
        "print(\"Classification Report:\\n\", classification_report(y_test, y_pred))\n"
      ],
      "metadata": {
        "colab": {
          "base_uri": "https://localhost:8080/"
        },
        "id": "1aKdPzBUEFKa",
        "outputId": "132c6e28-13d4-4b2f-9eb2-4c5e4ef9f823"
      },
      "execution_count": 8,
      "outputs": [
        {
          "output_type": "stream",
          "name": "stdout",
          "text": [
            "Classification Report:\n",
            "               precision    recall  f1-score   support\n",
            "\n",
            "           1       1.00      1.00      1.00         2\n",
            "\n",
            "    accuracy                           1.00         2\n",
            "   macro avg       1.00      1.00      1.00         2\n",
            "weighted avg       1.00      1.00      1.00         2\n",
            "\n"
          ]
        }
      ]
    },
    {
      "cell_type": "code",
      "source": [
        "#  Predicting if customer will buy Product A\n",
        "\n",
        "import pandas as pd\n",
        "from sklearn.linear_model import LogisticRegression\n",
        "from sklearn.model_selection import train_test_split\n",
        "from sklearn.metrics import classification_report, accuracy_score\n",
        "from sklearn.preprocessing import StandardScaler\n",
        "\n",
        "data = {\n",
        "    'age': [22, 45, 33, 50, 28, 40, 60, 23, 34, 29],\n",
        "    'income': [30000, 60000, 45000, 75000, 35000, 55000, 80000, 32000, 47000, 36000],\n",
        "    'previous_purchases': [0, 3, 1, 4, 0, 2, 5, 0, 1, 0],\n",
        "    'buy_product_A': [0, 1, 0, 1, 0, 1, 1, 0, 0, 0]\n",
        "}\n",
        "\n",
        "df = pd.DataFrame(data)\n",
        "\n",
        "X = df[['age', 'income', 'previous_purchases']]\n",
        "y = df['buy_product_A']\n",
        "\n",
        "scaler = StandardScaler()\n",
        "X_scaled = scaler.fit_transform(X)\n",
        "\n",
        "X_train, X_test, y_train, y_test = train_test_split(X_scaled, y, test_size=0.3, random_state=42)\n",
        "\n",
        "model = LogisticRegression(max_iter=1000)\n",
        "model.fit(X_train, y_train)\n",
        "\n",
        "y_pred = model.predict(X_test)\n",
        "\n",
        "print(\"Classification Report:\\n\", classification_report(y_test, y_pred))\n",
        "print(\"Accuracy Score:\", accuracy_score(y_test, y_pred))\n"
      ],
      "metadata": {
        "colab": {
          "base_uri": "https://localhost:8080/"
        },
        "id": "su21YtTbETBy",
        "outputId": "1fc1542b-f4ef-4e57-c9f4-5ce34dcb8a8d"
      },
      "execution_count": 10,
      "outputs": [
        {
          "output_type": "stream",
          "name": "stdout",
          "text": [
            "Classification Report:\n",
            "               precision    recall  f1-score   support\n",
            "\n",
            "           0       0.50      1.00      0.67         1\n",
            "           1       1.00      0.50      0.67         2\n",
            "\n",
            "    accuracy                           0.67         3\n",
            "   macro avg       0.75      0.75      0.67         3\n",
            "weighted avg       0.83      0.67      0.67         3\n",
            "\n",
            "Accuracy Score: 0.6666666666666666\n"
          ]
        }
      ]
    }
  ]
}