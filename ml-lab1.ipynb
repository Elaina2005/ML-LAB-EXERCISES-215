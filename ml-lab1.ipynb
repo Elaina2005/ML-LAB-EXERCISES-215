{
  "nbformat": 4,
  "nbformat_minor": 0,
  "metadata": {
    "colab": {
      "provenance": []
    },
    "kernelspec": {
      "name": "python3",
      "display_name": "Python 3"
    },
    "language_info": {
      "name": "python"
    }
  },
  "cells": [
    {
      "cell_type": "code",
      "execution_count": 2,
      "metadata": {
        "colab": {
          "base_uri": "https://localhost:8080/"
        },
        "id": "sWnPxYfQ-Cza",
        "outputId": "4e1466a4-46a1-4392-cedf-46c1f4b62281"
      },
      "outputs": [
        {
          "output_type": "stream",
          "name": "stdout",
          "text": [
            "Predicted Fares: [37.61 25.92]\n",
            "Actual Fares: [35.0, 25.2]\n",
            "Mean Squared Error: 3.6641534256637085\n"
          ]
        }
      ],
      "source": [
        "\n",
        "import pandas as pd\n",
        "from sklearn.linear_model import LinearRegression\n",
        "from sklearn.model_selection import train_test_split\n",
        "from sklearn.metrics import mean_squared_error\n",
        "\n",
        "data = {\n",
        "    'trip_miles': [2.5, 5.2, 1.3, 3.5, 6.1, 4.0, 2.0, 3.8, 7.2, 5.5],\n",
        "    'trip_seconds': [600, 1200, 300, 800, 1500, 1000, 500, 900, 1600, 1300],\n",
        "    'pickup_area': [12, 14, 12, 15, 13, 11, 12, 15, 14, 13],\n",
        "    'dropoff_area': [14, 12, 15, 11, 12, 14, 13, 12, 15, 11],\n",
        "    'fare': [12.5, 25.2, 6.8, 15.3, 30.5, 20.2, 10.0, 18.9, 35.0, 28.0]\n",
        "}\n",
        "\n",
        "df = pd.DataFrame(data)\n",
        "\n",
        "X = df[['trip_miles', 'trip_seconds', 'pickup_area', 'dropoff_area']]\n",
        "y = df['fare']\n",
        "\n",
        "X_train, X_test, y_train, y_test = train_test_split(X, y, test_size=0.2, random_state=42)\n",
        "\n",
        "model = LinearRegression()\n",
        "model.fit(X_train, y_train)\n",
        "\n",
        "y_pred = model.predict(X_test)\n",
        "mse = mean_squared_error(y_test, y_pred)\n",
        "\n",
        "print(\"Predicted Fares:\", y_pred.round(2))\n",
        "print(\"Actual Fares:\", list(y_test))\n",
        "print(\"Mean Squared Error:\", mse)\n"
      ]
    },
    {
      "cell_type": "code",
      "source": [
        "\n",
        "import pandas as pd\n",
        "from sklearn.linear_model import LinearRegression\n",
        "from sklearn.preprocessing import LabelEncoder\n",
        "from sklearn.metrics import mean_squared_error\n",
        "\n",
        "data = {\n",
        "    'Weight': [79, 69, 73, 95, 82, 55, 69, 71, 64, 69],\n",
        "    'Height': [1.80, 1.68, 1.82, 1.70, 1.87, 1.55, 1.50, 1.78, 1.67, 1.64],\n",
        "    'Age': [35, 39, 25, 60, 27, 18, 89, 42, 16, 52],\n",
        "    'Gender': ['Male', 'Male', 'Male', 'Male', 'Male', 'Female', 'Female', 'Male', 'Female', 'Female']\n",
        "}\n",
        "\n",
        "df = pd.DataFrame(data)\n",
        "\n",
        "le = LabelEncoder()\n",
        "df['Gender_encoded'] = le.fit_transform(df['Gender'])\n",
        "\n",
        "X = df[['Height', 'Age', 'Gender_encoded']]\n",
        "y = df['Weight']\n",
        "\n",
        "model = LinearRegression()\n",
        "model.fit(X, y)\n",
        "\n",
        "y_pred = model.predict(X)\n",
        "\n",
        "mse = mean_squared_error(y, y_pred)\n",
        "print(\"Predicted Weights:\", y_pred.round(2))\n",
        "print(\"Mean Squared Error:\", mse)\n"
      ],
      "metadata": {
        "colab": {
          "base_uri": "https://localhost:8080/"
        },
        "id": "UlwxoLkZ_9sP",
        "outputId": "60d503b3-4a95-4393-cbc9-41e0b539985b"
      },
      "execution_count": 3,
      "outputs": [
        {
          "output_type": "stream",
          "name": "stdout",
          "text": [
            "Predicted Weights: [78.58 73.54 76.66 80.77 79.84 54.58 72.94 79.61 60.21 69.27]\n",
            "Mean Squared Error: 34.54980600814196\n"
          ]
        }
      ]
    }
  ]
}